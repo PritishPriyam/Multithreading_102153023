{
  "cells": [
    {
      "cell_type": "code",
      "execution_count": 2,
      "metadata": {
        "id": "8jsjnbdt-6h2"
      },
      "outputs": [],
      "source": [
        "\n",
        "import numpy as np\n",
        "import pandas as pd\n",
        "import time\n",
        "import threading\n",
        "import random as r\n",
        "import matplotlib.pyplot as plt"
      ]
    },
    {
      "cell_type": "code",
      "execution_count": 3,
      "metadata": {
        "id": "SX6ETjco_IWi"
      },
      "outputs": [],
      "source": [
        "def genRandMatrix(n, size):\n",
        "    matrices = []\n",
        "    for _ in range(n):\n",
        "        matrices.append(np.random.rand(size, size))\n",
        "    return matrices\n",
        "\n",
        "def matrixMultiplication(matrices):\n",
        "    constant_matrix = np.random.rand(matrix_size, matrix_size)\n",
        "    result = constant_matrix.copy()\n",
        "    for matrix in matrices:\n",
        "        result = np.dot(result, matrix)\n",
        "    return result\n",
        "\n",
        "def threadMultipl(num_threads):\n",
        "    start_time = time.time()\n",
        "    threads = []\n",
        "    for i in range(0, len(matrices), num_threads):\n",
        "        thread = threading.Thread(target=matrixMultiplication, args=(matrices[i:i+num_threads],))\n",
        "        threads.append(thread)\n",
        "        thread.start()\n",
        "\n",
        "    for thread in threads:\n",
        "        thread.join()\n",
        "    end_time = time.time()\n",
        "    return end_time - start_time"
      ]
    },
    {
      "cell_type": "code",
      "execution_count": 4,
      "metadata": {
        "id": "p427HMki_NqN"
      },
      "outputs": [],
      "source": [
        "n = 100\n",
        "matrix_size = 1000\n",
        "matrices=genRandMatrix(n,matrix_size)"
      ]
    },
    {
      "cell_type": "code",
      "execution_count": 5,
      "metadata": {
        "id": "zLzbtspO_R5I"
      },
      "outputs": [],
      "source": [
        "results = {}\n",
        "for num_threads in range(1, 15):\n",
        "    time_taken = threadMultipl(num_threads)\n",
        "    results[num_threads] = time_taken\n"
      ]
    },
    {
      "cell_type": "code",
      "execution_count": 6,
      "metadata": {
        "id": "_CqC4pU5_V-0"
      },
      "outputs": [],
      "source": [
        "df = pd.DataFrame.from_dict(results, orient='index', columns=['Time Taken (s)'])\n",
        "df['Threads']=[1,2,3,4,5,6,7,8,9,10,11,12,13,15]\n",
        "column_to_move = df.pop(\"Threads\")\n",
        "df.insert(0, \"Threads\", column_to_move)\n",
        "df.set_index('Threads', inplace=True)"
      ]
    },
    {
      "cell_type": "code",
      "execution_count": 7,
      "metadata": {},
      "outputs": [
        {
          "data": {
            "text/html": [
              "<div>\n",
              "<style scoped>\n",
              "    .dataframe tbody tr th:only-of-type {\n",
              "        vertical-align: middle;\n",
              "    }\n",
              "\n",
              "    .dataframe tbody tr th {\n",
              "        vertical-align: top;\n",
              "    }\n",
              "\n",
              "    .dataframe thead th {\n",
              "        text-align: right;\n",
              "    }\n",
              "</style>\n",
              "<table border=\"1\" class=\"dataframe\">\n",
              "  <thead>\n",
              "    <tr style=\"text-align: right;\">\n",
              "      <th></th>\n",
              "      <th>Time Taken (s)</th>\n",
              "    </tr>\n",
              "    <tr>\n",
              "      <th>Threads</th>\n",
              "      <th></th>\n",
              "    </tr>\n",
              "  </thead>\n",
              "  <tbody>\n",
              "    <tr>\n",
              "      <th>1</th>\n",
              "      <td>4.659473</td>\n",
              "    </tr>\n",
              "    <tr>\n",
              "      <th>2</th>\n",
              "      <td>3.812275</td>\n",
              "    </tr>\n",
              "    <tr>\n",
              "      <th>3</th>\n",
              "      <td>3.682240</td>\n",
              "    </tr>\n",
              "    <tr>\n",
              "      <th>4</th>\n",
              "      <td>3.706852</td>\n",
              "    </tr>\n",
              "    <tr>\n",
              "      <th>5</th>\n",
              "      <td>3.759582</td>\n",
              "    </tr>\n",
              "    <tr>\n",
              "      <th>6</th>\n",
              "      <td>3.148959</td>\n",
              "    </tr>\n",
              "    <tr>\n",
              "      <th>7</th>\n",
              "      <td>3.514324</td>\n",
              "    </tr>\n",
              "    <tr>\n",
              "      <th>8</th>\n",
              "      <td>3.284013</td>\n",
              "    </tr>\n",
              "    <tr>\n",
              "      <th>9</th>\n",
              "      <td>3.202495</td>\n",
              "    </tr>\n",
              "    <tr>\n",
              "      <th>10</th>\n",
              "      <td>3.184962</td>\n",
              "    </tr>\n",
              "    <tr>\n",
              "      <th>11</th>\n",
              "      <td>3.246996</td>\n",
              "    </tr>\n",
              "    <tr>\n",
              "      <th>12</th>\n",
              "      <td>2.811209</td>\n",
              "    </tr>\n",
              "    <tr>\n",
              "      <th>13</th>\n",
              "      <td>3.393682</td>\n",
              "    </tr>\n",
              "    <tr>\n",
              "      <th>15</th>\n",
              "      <td>3.820822</td>\n",
              "    </tr>\n",
              "  </tbody>\n",
              "</table>\n",
              "</div>"
            ],
            "text/plain": [
              "         Time Taken (s)\n",
              "Threads                \n",
              "1              4.659473\n",
              "2              3.812275\n",
              "3              3.682240\n",
              "4              3.706852\n",
              "5              3.759582\n",
              "6              3.148959\n",
              "7              3.514324\n",
              "8              3.284013\n",
              "9              3.202495\n",
              "10             3.184962\n",
              "11             3.246996\n",
              "12             2.811209\n",
              "13             3.393682\n",
              "15             3.820822"
            ]
          },
          "metadata": {},
          "output_type": "display_data"
        },
        {
          "data": {
            "image/png": "[encoded data removed]",
            "text/plain": [
              "<Figure size 640x480 with 1 Axes>"
            ]
          },
          "metadata": {},
          "output_type": "display_data"
        }
      ],
      "source": [
        "display(df)\n",
        "\n",
        "# Plot\n",
        "df.plot()\n",
        "plt.xlabel('Number of Threads')\n",
        "plt.ylabel('Time Taken (s)')\n",
        "plt.title('Time Taken vs Number of Threads')\n",
        "plt.show()"
      ]
    }
  ],
  "metadata": {
    "colab": {
      "provenance": []
    },
    "kernelspec": {
      "display_name": "Python 3",
      "name": "python3"
    },
    "language_info": {
      "codemirror_mode": {
        "name": "ipython",
        "version": 3
      },
      "file_extension": ".py",
      "mimetype": "text/x-python",
      "name": "python",
      "nbconvert_exporter": "python",
      "pygments_lexer": "ipython3",
      "version": "3.11.9"
    }
  },
  "nbformat": 4,
  "nbformat_minor": 0
}
